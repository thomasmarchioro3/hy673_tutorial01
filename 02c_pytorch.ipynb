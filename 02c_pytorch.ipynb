{
 "cells": [
  {
   "attachments": {},
   "cell_type": "markdown",
   "metadata": {},
   "source": [
    "# Pytorch\n",
    "\n",
    "Numpy array and torch tensors are essentially identical, except for some minor differences."
   ]
  },
  {
   "cell_type": "code",
   "execution_count": null,
   "metadata": {},
   "outputs": [],
   "source": [
    "import numpy as np\n",
    "import torch"
   ]
  },
  {
   "attachments": {},
   "cell_type": "markdown",
   "metadata": {},
   "source": [
    "### Lists arrays and tensors"
   ]
  },
  {
   "cell_type": "code",
   "execution_count": null,
   "metadata": {},
   "outputs": [],
   "source": [
    "x_list = [3.14, 2.71, 42] # this is a list\n",
    "x_array = np.asarray(x_list)\n",
    "x_tensor = torch.tensor(x_list)\n",
    "\n",
    "print(\"Type of x_list:\", type(x_list))\n",
    "print(\"Type of x_array:\", type(x_array))\n",
    "print(\"Type of x_tensor:\", type(x_tensor))\n",
    " "
   ]
  },
  {
   "cell_type": "code",
   "execution_count": null,
   "metadata": {},
   "outputs": [],
   "source": [
    "x_list = x_tensor.tolist()\n",
    "print(type(x_list))"
   ]
  },
  {
   "cell_type": "code",
   "execution_count": null,
   "metadata": {},
   "outputs": [],
   "source": [
    "x_array = x_tensor.numpy()\n",
    "\n",
    "# Be careful when you use x_tensor.numpy()!\n",
    "# What you do to the Numpy array will reflect on the Tensor\n",
    "x_array[0] = 3\n",
    "print(\"Array:\", x_array)\n",
    "print(\"Tensor:\", x_tensor)"
   ]
  },
  {
   "cell_type": "code",
   "execution_count": null,
   "metadata": {},
   "outputs": [],
   "source": [
    "# to avoid this behavior, you can use the copy() method of Numpy arrays\n",
    "\n",
    "x_tensor = torch.tensor([3.14, 2.71, 42])\n",
    "x_array = x_tensor.numpy().copy()\n",
    "\n",
    "x_array[0] = 3\n",
    "print(\"Array:\", x_array)\n",
    "print(\"Tensor:\", x_tensor)"
   ]
  },
  {
   "cell_type": "code",
   "execution_count": null,
   "metadata": {},
   "outputs": [],
   "source": [
    "x1 = torch.tensor([3.14, 2.71, 42])\n",
    "x2 = torch.tensor([1729, 1.41, 1.62])"
   ]
  },
  {
   "cell_type": "code",
   "execution_count": null,
   "metadata": {},
   "outputs": [],
   "source": [
    "print(x2[1:])"
   ]
  },
  {
   "cell_type": "code",
   "execution_count": null,
   "metadata": {},
   "outputs": [],
   "source": [
    "# Reversing does not work like in Numpy :(\n",
    "# print(x1[::-1])\n",
    "# But you can always to this, if you need to visualize the content in reverse order :)\n",
    "print(x1.numpy()[::-1])\n"
   ]
  },
  {
   "cell_type": "code",
   "execution_count": null,
   "metadata": {},
   "outputs": [],
   "source": [
    "print(\"Element-wise sum:\", x1 + x2)\n",
    "print(\"Element-wise product:\", x1 * x2)\n",
    "print(\"Dot product:\", x1 @ x2)\n",
    "print(\"Sum by a scalar:\", x1 + 2)"
   ]
  },
  {
   "cell_type": "code",
   "execution_count": null,
   "metadata": {},
   "outputs": [],
   "source": [
    "print(\"Product by a scalar:\", x1 * 2)\n",
    "print(\"Power by a scalar:\", x1 ** 2)"
   ]
  },
  {
   "cell_type": "code",
   "execution_count": null,
   "metadata": {},
   "outputs": [],
   "source": [
    "print(\"Sum of all elements of an array:\", x1.sum())\n",
    "print(\"Product of all elements of an array:\", x1.prod())"
   ]
  },
  {
   "attachments": {},
   "cell_type": "markdown",
   "metadata": {},
   "source": [
    "## Reshape vs View in Pytorch tensors"
   ]
  },
  {
   "cell_type": "code",
   "execution_count": null,
   "metadata": {},
   "outputs": [],
   "source": [
    "x = torch.arange(8*12).view((8, 4, 3))\n",
    "y = torch.arange(8*15).view((8, 3, 5))\n",
    "z = x @ y\n",
    "\n",
    "print(\"Shape of x:\", x.shape)\n",
    "print(\"Shape of y:\", y.shape)\n",
    "print(\"Shape of z:\", z.shape)"
   ]
  },
  {
   "attachments": {},
   "cell_type": "markdown",
   "metadata": {},
   "source": [
    "## Random number generation in Pytorch"
   ]
  },
  {
   "cell_type": "code",
   "execution_count": null,
   "metadata": {},
   "outputs": [],
   "source": [
    "torch.manual_seed(42)"
   ]
  },
  {
   "cell_type": "code",
   "execution_count": null,
   "metadata": {},
   "outputs": [],
   "source": [
    "# Generate random integers uniformly between low and high\n",
    "# Difference with Numpy: size requires a shape\n",
    "x_int = torch.randint(low=-2, high=10, size=(20,))\n",
    "print(x_int)"
   ]
  },
  {
   "cell_type": "code",
   "execution_count": null,
   "metadata": {},
   "outputs": [],
   "source": [
    "# Generate float numbers uniformly in the interval [a, b]\n",
    "a = 3\n",
    "b = 10\n",
    "num_points = 10000\n",
    "\n",
    "x_unif = (b-a)*torch.rand(num_points) + a  "
   ]
  },
  {
   "cell_type": "code",
   "execution_count": null,
   "metadata": {},
   "outputs": [],
   "source": [
    "# generate normally-distributed data with mean mu=3.14 and std sigma=2.71\n",
    "mu = 3.14\n",
    "sigma = 2.71\n",
    "num_points = 10000\n",
    "\n",
    "x_norm = sigma*torch.randn(num_points) + mu"
   ]
  },
  {
   "cell_type": "code",
   "execution_count": null,
   "metadata": {},
   "outputs": [],
   "source": [
    "import matplotlib.pyplot as plt"
   ]
  },
  {
   "cell_type": "code",
   "execution_count": null,
   "metadata": {},
   "outputs": [],
   "source": [
    "plt.figure()\n",
    "plt.hist(x_unif, bins=10)\n",
    "plt.draw()"
   ]
  },
  {
   "cell_type": "code",
   "execution_count": null,
   "metadata": {},
   "outputs": [],
   "source": [
    "plt.figure()\n",
    "plt.hist(x_norm, bins=20, label='data')\n",
    "plt.vlines([mu-sigma, mu+sigma], 0, 2000, linestyles='--', colors=['green', 'green'], label='67% CI')\n",
    "plt.vlines([mu-2*sigma, mu+2*sigma], 0, 2000, linestyles='--', colors=['orange', 'orange'], label='96% CI')\n",
    "plt.vlines([mu-3*sigma, mu+3*sigma], 0, 2000, linestyles='--', colors=['red', 'red'], label='99% CI')\n",
    "plt.legend()\n",
    "plt.draw()"
   ]
  },
  {
   "cell_type": "code",
   "execution_count": null,
   "metadata": {},
   "outputs": [],
   "source": []
  }
 ],
 "metadata": {
  "kernelspec": {
   "display_name": "hy673",
   "language": "python",
   "name": "python3"
  },
  "language_info": {
   "codemirror_mode": {
    "name": "ipython",
    "version": 3
   },
   "file_extension": ".py",
   "mimetype": "text/x-python",
   "name": "python",
   "nbconvert_exporter": "python",
   "pygments_lexer": "ipython3",
   "version": "3.10.9"
  },
  "orig_nbformat": 4,
  "vscode": {
   "interpreter": {
    "hash": "898d28840f55b3c5c9a615fda231169adc20c90e3e87a937f55caa36837c15d9"
   }
  }
 },
 "nbformat": 4,
 "nbformat_minor": 2
}
