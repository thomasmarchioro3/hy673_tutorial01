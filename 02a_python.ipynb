{
 "cells": [
  {
   "attachments": {},
   "cell_type": "markdown",
   "metadata": {},
   "source": [
    "# Python basics\n",
    "\n",
    "In this part of the tutorial, we will cover some of the Python's fundamentals.\n",
    "\n",
    "However, we won't be able to cover everything.\n",
    "So, if you are completely new to Python, I strongly recomment you check this tutorial by W3School: https://www.w3schools.com/python/default.asp\n",
    "\n",
    "It's free, easy, and surely can explain how to code in Python better than your TA."
   ]
  },
  {
   "cell_type": "code",
   "execution_count": null,
   "metadata": {},
   "outputs": [],
   "source": [
    "import torch\n",
    "import numpy as np\n",
    "import pandas as pd\n",
    "import matplotlib.pyplot as plt"
   ]
  },
  {
   "attachments": {},
   "cell_type": "markdown",
   "metadata": {},
   "source": [
    "## Data types\n",
    "\n",
    "In most of your code you will use 4 fundamental data types: `book`, `int`, `float`, and `str`.\n",
    "I can't remember any other fundamental data type, so I don't see why you should.\n",
    "\n",
    "In order to check the type of a variable, you can use the `type()` function."
   ]
  },
  {
   "cell_type": "code",
   "execution_count": null,
   "metadata": {},
   "outputs": [],
   "source": [
    "w = True\n",
    "print(type(w))"
   ]
  },
  {
   "cell_type": "code",
   "execution_count": null,
   "metadata": {},
   "outputs": [],
   "source": [
    "x = 42\n",
    "print(type(x))"
   ]
  },
  {
   "cell_type": "code",
   "execution_count": null,
   "metadata": {},
   "outputs": [],
   "source": [
    "y = 3.1415926\n",
    "print(type(y))"
   ]
  },
  {
   "cell_type": "code",
   "execution_count": null,
   "metadata": {},
   "outputs": [],
   "source": [
    "z = 'grapefruit'\n",
    "# or\n",
    "z = \"grapefruit\"\n",
    "# in Python, it doesn't really matter if you use single or double quotes, as long as you're consistent \n",
    "print(type(z))"
   ]
  },
  {
   "attachments": {},
   "cell_type": "markdown",
   "metadata": {},
   "source": [
    "As you can see, Python automatically infers the type of a variable when you assign a value to it.\n",
    "\n",
    "Actually, there is a way to \"\"specify\"\" the type, but in reality it's just for decoration.\n",
    "\n",
    "Some smart IDE may be able to warn you \"Hey, you assigned a value with the wrong type!\" but the code will still run."
   ]
  },
  {
   "cell_type": "code",
   "execution_count": null,
   "metadata": {},
   "outputs": [],
   "source": [
    "z: int = \"grapefruit\"\n",
    "print(type(z))"
   ]
  },
  {
   "attachments": {},
   "cell_type": "markdown",
   "metadata": {},
   "source": [
    "You may have noticed that all the types have `class` in front of them.\n",
    "That's because in Python *everything* is an object.\n",
    "Even functions!"
   ]
  },
  {
   "cell_type": "code",
   "execution_count": null,
   "metadata": {},
   "outputs": [],
   "source": [
    "def foo(x):\n",
    "    return x + 1\n",
    "\n",
    "print(type(foo))"
   ]
  },
  {
   "attachments": {},
   "cell_type": "markdown",
   "metadata": {},
   "source": [
    "## Basic number operations\n",
    "\n",
    "Here below you can find basic operations between numbers."
   ]
  },
  {
   "cell_type": "code",
   "execution_count": null,
   "metadata": {},
   "outputs": [],
   "source": [
    "print(\"Addition:\", x + y)\n",
    "print(\"Subtraction:\", x - y)\n",
    "print(\"Multiplication:\", x * y)\n",
    "print(\"Float division:\", x / y)\n",
    "print(\"Integer division:\", x // y)\n",
    "print(\"Remainder of integer division (modulo):\", x % 5)\n",
    "print(\"Exponentiation:\", x**2)"
   ]
  },
  {
   "attachments": {},
   "cell_type": "markdown",
   "metadata": {},
   "source": [
    "This tutorial won't cover operations between strings because there's no time for that, but I recommend you check them out here:\n",
    "https://www.w3schools.com/python/python_strings.asp \n",
    "\n",
    "However, one thing you absolutely must know is how to format strings.\n",
    "There are many ways to do it, but my favorite is this one:"
   ]
  },
  {
   "cell_type": "code",
   "execution_count": null,
   "metadata": {},
   "outputs": [],
   "source": [
    "x = 20/3\n",
    "print(f\"When displaying your results, you may want to format them like this {x:.2f}, and not like this {x}.\")"
   ]
  },
  {
   "attachments": {},
   "cell_type": "markdown",
   "metadata": {},
   "source": [
    "## Functions\n",
    "\n",
    "In Python there are two types of functions:\n",
    "- Standard functions\n",
    "- Lambda functions\n",
    "\n",
    "Lambda functions are typically faster, but they need to be one-liners."
   ]
  },
  {
   "cell_type": "code",
   "execution_count": null,
   "metadata": {},
   "outputs": [],
   "source": [
    "def foo(x, y):\n",
    "    return x + y\n",
    "\n",
    "foo2 = lambda x,y: x + y\n",
    "\n",
    "print(\"1st function:\", foo(2, 3))\n",
    "print(\"2nd function:\", foo2(2, 3))\n"
   ]
  },
  {
   "attachments": {},
   "cell_type": "markdown",
   "metadata": {},
   "source": [
    "### Arguments and keyword arguments\n",
    "\n",
    "In Python, there are two ways of specifying the parameters (inputs) of a function: arguments and keyword arguments.\n",
    "\n",
    "<b>Arguments</b> are parameters that you pass to the function by specifying only the value (e.g., `foo(4)`). You will often see them referred as `args` in source code.\n",
    "\n",
    "<b>Keyword arguments</b> are parameters that you pass to the function via an assignment operation (e.g., `foo(x=4)`). You will often see them referred as `kwargs` in source code.\n",
    "\n",
    "Arguments are assigned to the function's parameters in sequential order. This means that if a function was declared with `def foo(x, y, z):`, it will assign the first argument to `x`, the second to `y`, and the third to `z`.\n",
    "\n",
    "When keyword arguments are passed, instead, the parameter to be read is specified by the keyword, and does not require a specific order. This means that `foo(z=3, x=1, y=2)` is read as `foo(1, 2, 3)`. However, when a function is called using both arguments and keyword arguments, arguments always need to be <i>before</i> the keyword arguments. For example `foo(x=1, 2)` will raise an error."
   ]
  },
  {
   "cell_type": "code",
   "execution_count": null,
   "metadata": {},
   "outputs": [],
   "source": [
    "def foo(x, y):\n",
    "    return x - y\n",
    "\n",
    "print(\"Only arguments:\", foo(4, 3))\n",
    "print(\"Only keyword arguments:\", foo(x=4, y=3))\n",
    "print(\"Only keyword arguments, but in reverse order:\", foo(y=3, x=4))\n",
    "print(\"Mix of arguments and keyword arguments:\", foo(4, y=3))"
   ]
  },
  {
   "attachments": {},
   "cell_type": "markdown",
   "metadata": {},
   "source": [
    "## If-Else statements"
   ]
  },
  {
   "cell_type": "code",
   "execution_count": null,
   "metadata": {},
   "outputs": [],
   "source": [
    "x = 0\n",
    "\n",
    "if x == 0:\n",
    "    print(\"x is 0.\")\n",
    "elif x in [42, 3.14, \"grapefruit\"]:\n",
    "    print(\"x is either 42, 3.14, or 'grapefruit'.\")\n",
    "else:\n",
    "    print(\"Idk what's x.\")"
   ]
  },
  {
   "attachments": {},
   "cell_type": "markdown",
   "metadata": {},
   "source": [
    "## For loops"
   ]
  },
  {
   "cell_type": "code",
   "execution_count": null,
   "metadata": {},
   "outputs": [],
   "source": [
    "for elem in [0, 42, 3.14]:\n",
    "    print(\"The current element is:\", elem)"
   ]
  },
  {
   "cell_type": "code",
   "execution_count": null,
   "metadata": {},
   "outputs": [],
   "source": [
    "for elem in range(5):\n",
    "    print(\"The current element is:\", elem)"
   ]
  },
  {
   "attachments": {
    "image.png": {
     "image/png": "[encoded data removed]"
    }
   },
   "cell_type": "markdown",
   "metadata": {},
   "source": [
    "## Lists\n",
    "\n",
    "Python lists are essentially arrays of variable size (like `ArrayList` in Java), but for which you do not need to specify the type.\n",
    "\n",
    "![image.png](attachment:image.png)"
   ]
  },
  {
   "cell_type": "code",
   "execution_count": null,
   "metadata": {},
   "outputs": [],
   "source": [
    "mylist = [3.14, 'e', 42, 1729, 1.41, 1.62] # you don't need all the elements of a list to have the same data type\n",
    "\n",
    "# indices start from zero\n",
    "print(\"1st element:\", mylist[0])\n",
    "print(\"3rd element:\", mylist[2])\n",
    "print(\"Last element:\", mylist[-1])\n",
    "print(\"1st element (negative indexing):\", mylist[-6])\n",
    "\n",
    "print(\"Type of 1st element:\", type(mylist[0]))\n",
    "print(\"Type of 2nd element:\", type(mylist[1]))\n"
   ]
  },
  {
   "attachments": {},
   "cell_type": "markdown",
   "metadata": {},
   "source": [
    "### Slicing\n",
    "\n",
    "In Python, you can get sublists (\"slices\") of a list in 3 ways:\n",
    "- `mylist[start:end]` returns all the elements of `mylist` starting from `start` and ending at `end-1`\n",
    "- `mylist[start:]` returns all the elements of `mylist` between `start` and the last element\n",
    "- `mylist[:end]` returns all the elements of `mylist` between the first and `end-1`"
   ]
  },
  {
   "cell_type": "code",
   "execution_count": null,
   "metadata": {},
   "outputs": [],
   "source": [
    "# Can you guess the output?\n",
    "mylist = [3.14, 'e', 42, 1729, 1.41, 1.62]\n",
    "\n",
    "print(mylist[0:3])\n",
    "# print(mylist[:3])\n",
    "# print(mylist[3:6])\n",
    "# print(mylist[3:])\n",
    "# print(mylist[3:-1])"
   ]
  },
  {
   "attachments": {},
   "cell_type": "markdown",
   "metadata": {},
   "source": [
    "### List comprehension\n",
    "\n",
    "If you come from a C/C++ background, you will be tempted to spam for-loops all the time.\n",
    "In Python for-loops are super slow, and in most cases there are better alternatives.\n",
    "\n",
    "For example, when you want to perform some operation <i>independently</i> on all the elements of a list,\n",
    "the better alternative is to use <b>list comprehension</b>.\n",
    "\n",
    "The caveat here is the \"independently\": that requires that the operation can be performed in parallel for all the elements in the list.\n",
    "\n",
    "Example:\n",
    "- Add 1 to each element of a list\n",
    "\n",
    "You will see below how this can be done with normal for-loops and with list comprehension."
   ]
  },
  {
   "cell_type": "code",
   "execution_count": null,
   "metadata": {},
   "outputs": [],
   "source": [
    "mylist = [6.51, 5.73, 3.74, 2.21, 7.93, 0.2, 7.28, 3.1, 4.34, \n",
    "1.87, 7.62, 6.48, 1.27, 4.98, 8.33, 1.39, 9.73, 5.78, 7.97, \n",
    "0.76, 6.64, 8.57, 9.71, 2.85, 6.82, 7.27, 5.36, 3.51, 8.29, \n",
    "8.8, 7.8, 7.51, 5.52, 9.9, 8.48, 7.07, 5.01, 7.07, 5.4, 4.83, \n",
    "7.05, 1.72, 5.75, 5.06, 5.11, 5.4, 7.33, 1.2, 5.72, 3.0, 7.47, \n",
    "7.71, 6.91, 4.23, 3.67, 1.73, 1.56, 3.6, 4.44, 9.56, 7.0, 6.85, \n",
    "7.34, 9.51, 4.33, 9.23, 1.21, 1.12, 2.45, 3.04, 3.06, 9.8, 3.89, \n",
    "4.01, 4.82, 2.4, 2.48, 5.31, 2.27, 5.87, 7.68, 1.5, 1.36, 2.98, \n",
    "0.51, 2.6, 1.15, 7.66, 3.86, 8.25, 6.3, 3.47, 3.08, 0.45, 8.7, \n",
    "0.69, 5.85, 1.69, 5.87, 0.73]\n"
   ]
  },
  {
   "attachments": {},
   "cell_type": "markdown",
   "metadata": {},
   "source": [
    "With normal for-loops:"
   ]
  },
  {
   "cell_type": "code",
   "execution_count": null,
   "metadata": {},
   "outputs": [],
   "source": [
    "def test_function(somelist):\n",
    "    newlist = []\n",
    "    for elem in somelist:\n",
    "        newlist.append(elem + 1)\n",
    "    return newlist\n",
    "\n",
    "%timeit -r 4 -n 1000 test_function(mylist) "
   ]
  },
  {
   "attachments": {},
   "cell_type": "markdown",
   "metadata": {},
   "source": [
    "With list comprehension:"
   ]
  },
  {
   "cell_type": "code",
   "execution_count": null,
   "metadata": {},
   "outputs": [],
   "source": [
    "def test_function2(somelist):\n",
    "    return [elem + 1 for elem in somelist]\n",
    "\n",
    "%timeit -r 4 -n 1000 test_function2(mylist)"
   ]
  },
  {
   "attachments": {},
   "cell_type": "markdown",
   "metadata": {},
   "source": [
    "Okay, here the difference might not be *that much* evident, but for more complex operations it will make a huge difference!\n",
    "\n",
    "Now you're probably wondering what in the world is that `%timeit` thing, right?\n",
    "Well, it's a Jupyter in-built \"magic function\", which can be used to time Python functions. The `-r` and `-n` parameters determine how many times the function gets tested. If you are interested in the details, check this link: https://ipython.readthedocs.io/en/stable/interactive/magics.html"
   ]
  },
  {
   "cell_type": "code",
   "execution_count": null,
   "metadata": {},
   "outputs": [],
   "source": [
    "# print only first three elements so that the output is not too ugly\n",
    "print(\"First method (for-loop):\", test_function(mylist[0:3]))\n",
    "print(\"Second method (list comprehension):\", test_function2(mylist[0:3]))"
   ]
  },
  {
   "attachments": {},
   "cell_type": "markdown",
   "metadata": {},
   "source": [
    "## IMPORTANT: Functions and Containers\n",
    "\n",
    "Lists (like other important structures such as Numpy array and Pytorch tensors) are a type of `Container`.\n",
    "Containers in Pytorch have the peculiar property of being passed <i>by reference</i> to a function, differently from other objects like integers and floats that are passed <i>by value</i>.\n",
    "\n",
    "An object that is passed by value to a function essentially passes a copy of itself to the function.\n",
    "So any modification done by the function does not affect the original object.\n",
    "\n",
    "Conversely, all the modifications that a function does to an object passed by reference are reflected to the original object.\n",
    "Essentially, they work like pointers in C/C++."
   ]
  },
  {
   "cell_type": "code",
   "execution_count": null,
   "metadata": {},
   "outputs": [],
   "source": [
    "def increment_number(number):\n",
    "    number = number + 1\n",
    "    print(\"Number inside the function:\", number)\n",
    "    return # nothing is returned\n",
    "\n",
    "def replace_element(somelist, index, value):\n",
    "    somelist[index] = value\n",
    "    print(\"List inside the function:\", somelist)\n",
    "    # also in this case nothing is returned\n",
    "\n",
    "mynum = 4\n",
    "increment_number(mynum)\n",
    "print(\"Number outside the function:\", mynum)\n",
    "\n",
    "mylist = [3.14, 'e', 42, 1729, 1.41, 1.62]\n",
    "replace_element(mylist, 1, 2.71)\n",
    "print(\"List outside the function:\", mylist)\n",
    "\n"
   ]
  },
  {
   "attachments": {},
   "cell_type": "markdown",
   "metadata": {},
   "source": [
    "## Generators and Iterators\n",
    "\n",
    "In Python, generators allow to create sequences of objects at runtime rather than allocating them in advance.\n",
    "\n",
    "For example, suppose that we want to write a script that iterates over a specific numerical sequence (i.d.k., Fibonacci or something) for an unknown number of iteration.\n",
    "\n",
    "It would be pretty inefficient to allocate in advance a super large list containing all the numbers of the sequences, right?\n",
    "Here is where generators come into play.\n",
    "\n",
    "Generators are defined similarly to functions, but instead of returning objects, they `yield` them.\n",
    "This means that at the next call of the generators, the code will resume after the last yield.\n",
    "\n",
    "Let's look at a super simple example to understand this better."
   ]
  },
  {
   "cell_type": "code",
   "execution_count": null,
   "metadata": {},
   "outputs": [],
   "source": [
    "def create_dummy_generator():\n",
    "    yield 3\n",
    "    yield 1\n",
    "    yield 4\n",
    "\n",
    "my_generator = create_dummy_generator()\n",
    "print(my_generator)"
   ]
  },
  {
   "attachments": {},
   "cell_type": "markdown",
   "metadata": {},
   "source": [
    "You cannot get elements from a generator via subscripting like you do for lists. If you try to run something like `my_generator[2]`, it will raise an error.\n",
    "\n",
    "One way to get items from a generator is by creating an iterator that takes elements in order.\n",
    "To make an iterator out of a generator, you can use `iter(my_generator)`.\n",
    "\n",
    "To get elements from an iterator, you can use the `next()` command."
   ]
  },
  {
   "cell_type": "code",
   "execution_count": null,
   "metadata": {},
   "outputs": [],
   "source": [
    "my_generator = create_dummy_generator()\n",
    "my_iterator = iter(my_generator)\n",
    "\n",
    "print(next(my_iterator))\n",
    "print(next(my_iterator))\n",
    "print(next(my_iterator))"
   ]
  },
  {
   "attachments": {},
   "cell_type": "markdown",
   "metadata": {},
   "source": [
    "Alternatively, you can just loop through all the elements of a generator.\n",
    "WARNING: This might lead to an infinite loop!"
   ]
  },
  {
   "cell_type": "code",
   "execution_count": null,
   "metadata": {},
   "outputs": [],
   "source": [
    "my_generator = create_dummy_generator()\n",
    "\n",
    "for elem in my_generator:\n",
    "    print(elem)"
   ]
  },
  {
   "attachments": {},
   "cell_type": "markdown",
   "metadata": {},
   "source": [
    "Let's try to implement a simple generator that produces a range at runtime."
   ]
  },
  {
   "cell_type": "code",
   "execution_count": null,
   "metadata": {},
   "outputs": [],
   "source": [
    "def create_range_generator(start, stop, step):\n",
    "    curr_val = start\n",
    "    while curr_val < stop:\n",
    "        yield curr_val \n",
    "        curr_val = curr_val + step\n",
    "\n",
    "my_range = create_range_generator(0, 5, 2)\n",
    "print(type(my_range))"
   ]
  },
  {
   "cell_type": "code",
   "execution_count": null,
   "metadata": {},
   "outputs": [],
   "source": [
    "for i in create_range_generator(0, 5, 2):\n",
    "    print(i)"
   ]
  },
  {
   "attachments": {},
   "cell_type": "markdown",
   "metadata": {},
   "source": [
    "## Directory: one command to rule them all\n",
    "\n",
    "The command `dir` lists all the possible attributes and methods of an object (in Python everything is an object)"
   ]
  },
  {
   "cell_type": "code",
   "execution_count": null,
   "metadata": {},
   "outputs": [],
   "source": [
    "print(dir(mylist))"
   ]
  },
  {
   "attachments": {},
   "cell_type": "markdown",
   "metadata": {},
   "source": [
    "All the strings contained in `dir(mylist)` are either methods or attributes of `mylist`.\n",
    "\n",
    "### Dunder methods\n",
    "\n",
    "Some notable methods are those that start and end with double underscores, like `__dir__`. Those are called \"magic methods\" or \"Dunder methods\", and can be used in two ways:\n",
    "- `mylist.__method__()`\n",
    "- `method(mylist)`"
   ]
  },
  {
   "cell_type": "code",
   "execution_count": null,
   "metadata": {},
   "outputs": [],
   "source": [
    "print(\"Length of mylist:\", len(mylist))\n",
    "print(\"Also the length of mylist:\", mylist.__len__())"
   ]
  },
  {
   "attachments": {},
   "cell_type": "markdown",
   "metadata": {},
   "source": [
    "### Notable Dunder methods: how Python works under the hood\n",
    "\n",
    "- `__getitem__`: This method is called when subscripting an object. When you write `mylist[idx]`, Python actually reads `mylist.__getitem__(idx)`\n",
    "\n",
    "- `__iter__`: This method is called when you use `iter(my_iterable_obj)`. You can check if an object has this method to determine if it is iterable."
   ]
  },
  {
   "cell_type": "code",
   "execution_count": null,
   "metadata": {},
   "outputs": [],
   "source": [
    "my_num = 42\n",
    "my_generator = create_range_generator(0, 42, 1)\n",
    "\n",
    "if '__iter__' in dir(my_num):\n",
    "    print(\"Numbers are iterable.\")\n",
    "else:\n",
    "    print(\"Numbers are NOT iterable.\")\n",
    "\n",
    "\n",
    "if '__iter__' in dir(my_generator):\n",
    "    print(\"Generators are iterable.\")\n",
    "else:\n",
    "    print(\"Generators are NOT iterable.\")"
   ]
  },
  {
   "cell_type": "code",
   "execution_count": null,
   "metadata": {},
   "outputs": [],
   "source": [
    "my_generator = create_range_generator(0, 42, 1)\n",
    "my_list = [elem for elem in my_generator]\n",
    "\n",
    "if '__getitem__' in dir(my_generator):\n",
    "    print(\"Generators are subscriptable.\")\n",
    "else:\n",
    "    print(\"Generators are NOT subscriptable.\")\n",
    "\n",
    "if '__getitem__' in dir(my_list):\n",
    "    print(\"Lists are subscriptable.\")\n",
    "else:\n",
    "    print(\"Lists are NOT subscriptable.\")"
   ]
  }
 ],
 "metadata": {
  "kernelspec": {
   "display_name": "hy673",
   "language": "python",
   "name": "python3"
  },
  "language_info": {
   "codemirror_mode": {
    "name": "ipython",
    "version": 3
   },
   "file_extension": ".py",
   "mimetype": "text/x-python",
   "name": "python",
   "nbconvert_exporter": "python",
   "pygments_lexer": "ipython3",
   "version": "3.10.9"
  },
  "orig_nbformat": 4,
  "vscode": {
   "interpreter": {
    "hash": "898d28840f55b3c5c9a615fda231169adc20c90e3e87a937f55caa36837c15d9"
   }
  }
 },
 "nbformat": 4,
 "nbformat_minor": 2
}
