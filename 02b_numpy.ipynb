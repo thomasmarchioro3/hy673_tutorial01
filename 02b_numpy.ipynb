{
 "cells": [
  {
   "attachments": {},
   "cell_type": "markdown",
   "metadata": {},
   "source": [
    "# Numpy\n",
    "\n",
    "Numpy is a library to perform fast operations with arrays, which are data structures that can represent vectors, matrices, or multi-matrices (don't confuse them with the concept of array in other programming languages). \n",
    "\n",
    "Numpy arrays can be easily created from lists, <i>as long as all the elements have the same data type</i>.\n",
    "To turn a list into an array, you can use `np.array()` or `np.asarray()`."
   ]
  },
  {
   "cell_type": "code",
   "execution_count": null,
   "metadata": {},
   "outputs": [],
   "source": [
    "import numpy as np"
   ]
  },
  {
   "attachments": {},
   "cell_type": "markdown",
   "metadata": {},
   "source": [
    "## 1D Arrays (a.k.a. vectors)"
   ]
  },
  {
   "cell_type": "code",
   "execution_count": null,
   "metadata": {},
   "outputs": [],
   "source": [
    "x1 = [3.14, 2.71, 42] # this is a list\n",
    "x1 = np.array(x1) # this is a Numpy array\n",
    "\n",
    "x2 = np.asarray([1729, 1.41, 1.62]) # this is also a Numpy array"
   ]
  },
  {
   "attachments": {},
   "cell_type": "markdown",
   "metadata": {},
   "source": [
    "### Slicing"
   ]
  },
  {
   "cell_type": "code",
   "execution_count": null,
   "metadata": {},
   "outputs": [],
   "source": [
    "print(x2[1:])"
   ]
  },
  {
   "attachments": {},
   "cell_type": "markdown",
   "metadata": {},
   "source": [
    "### Reversing"
   ]
  },
  {
   "cell_type": "code",
   "execution_count": null,
   "metadata": {},
   "outputs": [],
   "source": [
    "print(x1[::-1])"
   ]
  },
  {
   "attachments": {},
   "cell_type": "markdown",
   "metadata": {},
   "source": [
    "### Element-wise operations between 1D arrays"
   ]
  },
  {
   "cell_type": "code",
   "execution_count": null,
   "metadata": {},
   "outputs": [],
   "source": [
    "print(\"Element-wise sum:\", x1 + x2)\n",
    "print(\"Element-wise product:\", x1 * x2)\n",
    "print(\"Dot product:\", x1 @ x2)\n",
    "print(\"Sum by a scalar:\", x1 + 2)"
   ]
  },
  {
   "attachments": {},
   "cell_type": "markdown",
   "metadata": {},
   "source": [
    "### Operations with scalars"
   ]
  },
  {
   "cell_type": "code",
   "execution_count": null,
   "metadata": {},
   "outputs": [],
   "source": [
    "print(\"Product by a scalar:\", x1 * 2)\n",
    "print(\"Power by a scalar:\", x1 ** 2)"
   ]
  },
  {
   "attachments": {},
   "cell_type": "markdown",
   "metadata": {},
   "source": [
    "### Reduction operations"
   ]
  },
  {
   "cell_type": "code",
   "execution_count": null,
   "metadata": {},
   "outputs": [],
   "source": [
    "print(\"Sum of all elements of an array:\", x1.sum())\n",
    "print(\"Product of all elements of an array:\", x1.prod())"
   ]
  },
  {
   "attachments": {},
   "cell_type": "markdown",
   "metadata": {},
   "source": [
    "<b>IMPORTANT</b>: Be careful not confusing lists with Numpy arrays."
   ]
  },
  {
   "cell_type": "code",
   "execution_count": null,
   "metadata": {},
   "outputs": [],
   "source": [
    "print('If you \"sum\" two lists, this is what will happen:', [3.14, 2.71, 42] + [1729, 1.41, 1.62]) # concatenation\n",
    "print('If you \"multiply\" an integer by a list, this is what will happen:', [3.14, 2.71, 42]*2) # repetition"
   ]
  },
  {
   "attachments": {},
   "cell_type": "markdown",
   "metadata": {},
   "source": [
    "## 2D Arrays (a.k.a. matrices)"
   ]
  },
  {
   "cell_type": "code",
   "execution_count": null,
   "metadata": {},
   "outputs": [],
   "source": [
    "x = [\n",
    "    [3.14, 2.71, 42],\n",
    "    [17.29, 1.41, 1.62]\n",
    "]\n",
    "\n",
    "x = np.asarray(x)\n",
    "\n",
    "print(\"Shape of a 2D array:\", x.shape)\n",
    "print(\"First dimension:\", x.shape[0])\n",
    "print(\"Second dimension:\", x.shape[1])"
   ]
  },
  {
   "attachments": {},
   "cell_type": "markdown",
   "metadata": {},
   "source": [
    "### Matrix slicing"
   ]
  },
  {
   "cell_type": "code",
   "execution_count": null,
   "metadata": {},
   "outputs": [],
   "source": [
    "print(\"First row:\")\n",
    "print(x[0])"
   ]
  },
  {
   "cell_type": "code",
   "execution_count": null,
   "metadata": {},
   "outputs": [],
   "source": [
    "print(\"Last two columns:\")\n",
    "print(x[:, :-2])"
   ]
  },
  {
   "attachments": {},
   "cell_type": "markdown",
   "metadata": {},
   "source": [
    "### Matrix transposition"
   ]
  },
  {
   "cell_type": "code",
   "execution_count": null,
   "metadata": {},
   "outputs": [],
   "source": [
    "y = x.T # transposition\n",
    "\n",
    "print(\"Shape of transposed array:\", y.shape)\n",
    "print(\"Transposed array:\")\n",
    "print(y)"
   ]
  },
  {
   "attachments": {},
   "cell_type": "markdown",
   "metadata": {},
   "source": [
    "### Reduction operations"
   ]
  },
  {
   "cell_type": "code",
   "execution_count": null,
   "metadata": {},
   "outputs": [],
   "source": [
    "print(\"Sum of all elements of a 2D array:\", x.sum())\n",
    "print(\"Product of all elements of a 2D array:\", x.prod())"
   ]
  },
  {
   "cell_type": "code",
   "execution_count": null,
   "metadata": {},
   "outputs": [],
   "source": [
    "print(\"Sum of all elements of a 2D array across one axis:\", x.sum(axis=0))\n",
    "print(\"Product of all elements of a 2D array across one axis:\", x.prod(axis=1))"
   ]
  },
  {
   "cell_type": "markdown",
   "metadata": {},
   "source": [
    "### Notable Numpy arrays"
   ]
  },
  {
   "attachments": {},
   "cell_type": "markdown",
   "metadata": {},
   "source": [
    "- <b>Range vector</b>: 1D array covering a range of integer numbers. It is characterized by three main parameters: `start`, `stop`, and `step`."
   ]
  },
  {
   "cell_type": "code",
   "execution_count": null,
   "metadata": {},
   "outputs": [],
   "source": [
    "x = np.arange(5) # [0, 1, 2, 3, 4]\n",
    "y = np.arange(2, 5) # [2, 3, 4]\n",
    "z = np.arange(0, 10, 2) # [0, 2, 4, 6, 8]\n",
    "\n",
    "print(x)\n",
    "print(y)\n",
    "print(z)"
   ]
  },
  {
   "attachments": {},
   "cell_type": "markdown",
   "metadata": {},
   "source": [
    "- <b>Identity matrix</b>: $n\\times n$ matrix with ones on the diagonal, and zeros elsewhere. \n",
    "You need to specify the dimension ($n$). "
   ]
  },
  {
   "cell_type": "code",
   "execution_count": null,
   "metadata": {},
   "outputs": [],
   "source": [
    "x = np.eye(3)\n",
    "print(x)"
   ]
  },
  {
   "attachments": {},
   "cell_type": "markdown",
   "metadata": {},
   "source": [
    "- <b>Array of ones</b>: Array of all ones. You need to specify the shape. If you pass an integer $n$, the shape will be $(n,)$.\n",
    "\n",
    "Example: $2\\times 4$ matrix of ones."
   ]
  },
  {
   "cell_type": "code",
   "execution_count": null,
   "metadata": {},
   "outputs": [],
   "source": [
    "x = np.ones((2, 4)) \n",
    "print(x)"
   ]
  },
  {
   "attachments": {},
   "cell_type": "markdown",
   "metadata": {},
   "source": [
    "- <b>Array of zeros</b>: Array of all zeros. You need to specify the shape. If you pass an integer $n$, the shape will be $(n,)$.\n",
    "\n",
    "Example: vector of $4$ zeros."
   ]
  },
  {
   "cell_type": "code",
   "execution_count": null,
   "metadata": {},
   "outputs": [],
   "source": [
    "y = np.zeros(4)\n",
    "print(y)"
   ]
  },
  {
   "attachments": {},
   "cell_type": "markdown",
   "metadata": {},
   "source": [
    "### Concatenating arrays\n",
    "\n",
    "Numpy allows you to concatenate array along one axis, as long as they have the same dimensions on the others.\n",
    "\n",
    "This will be helpful in two main cases:\n",
    "\n",
    "1) You have multiple data sources, and you want to join them into a single dataset. In this case, you typically concatenate along the first axis (`axis=0`).\n",
    "\n",
    "2) You want to add one extra column to your data. In this case, you typically concatenate along the last axis (`axis=-1`).\n",
    "\n",
    "Here is an example of the second case."
   ]
  },
  {
   "cell_type": "code",
   "execution_count": null,
   "metadata": {},
   "outputs": [],
   "source": [
    "x = np.ones((4, 2)) \n",
    "y = np.zeros((4, 1))\n",
    "\n",
    "z = np.concatenate([x, y], axis=-1)\n",
    "print(f\"Concatenated array of shape {z.shape}\")\n",
    "print(z)"
   ]
  },
  {
   "attachments": {},
   "cell_type": "markdown",
   "metadata": {},
   "source": [
    "### Reshaping arrays\n",
    "\n",
    "You can change the shape of an array, as long as it is consistent with its size (i.e., the total number of elements).\n",
    "\n",
    "This operation is called \"reshaping\".\n",
    "\n",
    "For example, you can reshape an array with shape $(8,)$ into one with shape $(2, 4)$. "
   ]
  },
  {
   "cell_type": "code",
   "execution_count": null,
   "metadata": {},
   "outputs": [],
   "source": [
    "x = np.arange(8)\n",
    "x = x.reshape((2, 4))\n",
    "\n",
    "print(x)"
   ]
  },
  {
   "attachments": {},
   "cell_type": "markdown",
   "metadata": {},
   "source": [
    "## 3D Arrays and Beyond\n",
    "\n",
    "In many deep learning applications you will have to deal with datasets having dimensionality 3 or higher.\n",
    "\n",
    "Examples:\n",
    "- Time series datasets (e.g., sensor data) have shape `(n_datapoints, sequence_len, n_features)`.\n",
    "- Image datasets have shape `(n_datapoints, height, width)` for greyscale images, and `(n_datapoints, height, width, n_channels)` for color images."
   ]
  },
  {
   "cell_type": "code",
   "execution_count": null,
   "metadata": {},
   "outputs": [],
   "source": [
    "x = np.arange(8*10*3)\n",
    "x = x.reshape(8, 10, 3)\n",
    "\n",
    "print(\"Shape of x:\", x.shape)"
   ]
  },
  {
   "attachments": {},
   "cell_type": "markdown",
   "metadata": {},
   "source": [
    "### 2D vs 3D+ matrix multiplication"
   ]
  },
  {
   "attachments": {},
   "cell_type": "markdown",
   "metadata": {},
   "source": [
    "2D matrix multiplication is straightforward: you have two matrices: $x$ of shape $(m, k)$ and $y$ of shape $(k, n)$, and they get multiplied row-by-column.\n",
    "\n",
    "The result is a matrix of shape $(m, n)$."
   ]
  },
  {
   "cell_type": "code",
   "execution_count": null,
   "metadata": {},
   "outputs": [],
   "source": [
    "x = np.arange(12).reshape((4, 3))\n",
    "y = np.arange(15).reshape((3, 5))\n",
    "z = x @ y\n",
    "\n",
    "print(\"Shape of x:\", x.shape)\n",
    "print(\"Shape of y:\", y.shape)\n",
    "print(\"Shape of x @ y:\", z.shape)\n",
    "print(\"Result:\")\n",
    "print(z)"
   ]
  },
  {
   "attachments": {},
   "cell_type": "markdown",
   "metadata": {},
   "source": [
    "However, what does it mean to multiply two 3D or 4D arrays? \n",
    "In Numpy, this operation is done by treating multidimensional arrays as collections of 2D arrays.\n",
    "In other words, it is like doing several matrix multiplications in parallel.\n",
    "Multidimensional arrays are multiplied along the last two axes, meaning that the dimensions that should match are the last two.\n",
    "\n",
    "For example, suppose you have an array $x$ of shape $(8, 4, 3)$ and another array $y$ of shape $(8, 3, 5)$.\n",
    "If you multiply them, it will be like multiplying $8$ different matrix pairs of shapes $(4, 3)$ and $(3, 5)$."
   ]
  },
  {
   "cell_type": "code",
   "execution_count": null,
   "metadata": {},
   "outputs": [],
   "source": [
    "x = np.arange(8*12).reshape((8, 4, 3))\n",
    "y = np.arange(8*15).reshape((8, 3, 5))\n",
    "z = x @ y\n",
    "\n",
    "print(\"Shape of x:\", x.shape)\n",
    "print(\"Shape of y:\", y.shape)\n",
    "print(\"Shape of z:\", z.shape)"
   ]
  },
  {
   "attachments": {},
   "cell_type": "markdown",
   "metadata": {},
   "source": [
    "## Random number generation with Numpy"
   ]
  },
  {
   "cell_type": "code",
   "execution_count": null,
   "metadata": {},
   "outputs": [],
   "source": [
    "# seed for pseudo-random number generation (for reproducibility) \n",
    "np.random.seed(42)"
   ]
  },
  {
   "cell_type": "code",
   "execution_count": null,
   "metadata": {},
   "outputs": [],
   "source": [
    "# Generate random integers uniformly between low and high\n",
    "x_int = np.random.randint(low=-2, high=10, size=20)\n",
    "print(x_int)"
   ]
  },
  {
   "cell_type": "code",
   "execution_count": null,
   "metadata": {},
   "outputs": [],
   "source": [
    "# Generate float numbers uniformly in the interval [a, b]\n",
    "a = 3\n",
    "b = 10\n",
    "num_points = 10000\n",
    "\n",
    "x_unif = (b-a)*np.random.rand(num_points) + a  \n"
   ]
  },
  {
   "cell_type": "code",
   "execution_count": null,
   "metadata": {},
   "outputs": [],
   "source": [
    "# generate normally-distributed data with mean mu=3.14 and std sigma=2.71\n",
    "mu = 3.14\n",
    "sigma = 2.71\n",
    "num_points = 10000\n",
    "\n",
    "x_norm = sigma*np.random.randn(num_points) + mu\n"
   ]
  },
  {
   "cell_type": "code",
   "execution_count": null,
   "metadata": {},
   "outputs": [],
   "source": [
    "import matplotlib.pyplot as plt"
   ]
  },
  {
   "cell_type": "code",
   "execution_count": null,
   "metadata": {},
   "outputs": [],
   "source": [
    "plt.figure()\n",
    "plt.hist(x_unif, bins=10)\n",
    "plt.draw()"
   ]
  },
  {
   "cell_type": "code",
   "execution_count": null,
   "metadata": {},
   "outputs": [],
   "source": [
    "plt.figure()\n",
    "plt.hist(x_norm, bins=20, label='data')\n",
    "plt.vlines([mu-sigma, mu+sigma], 0, 2000, linestyles='--', colors=['green', 'green'], label='67% CI')\n",
    "plt.vlines([mu-2*sigma, mu+2*sigma], 0, 2000, linestyles='--', colors=['orange', 'orange'], label='96% CI')\n",
    "plt.vlines([mu-3*sigma, mu+3*sigma], 0, 2000, linestyles='--', colors=['red', 'red'], label='99% CI')\n",
    "plt.legend()\n",
    "plt.draw()"
   ]
  }
 ],
 "metadata": {
  "kernelspec": {
   "display_name": "hy673",
   "language": "python",
   "name": "python3"
  },
  "language_info": {
   "codemirror_mode": {
    "name": "ipython",
    "version": 3
   },
   "file_extension": ".py",
   "mimetype": "text/x-python",
   "name": "python",
   "nbconvert_exporter": "python",
   "pygments_lexer": "ipython3",
   "version": "3.10.9"
  },
  "orig_nbformat": 4,
  "vscode": {
   "interpreter": {
    "hash": "898d28840f55b3c5c9a615fda231169adc20c90e3e87a937f55caa36837c15d9"
   }
  }
 },
 "nbformat": 4,
 "nbformat_minor": 2
}
